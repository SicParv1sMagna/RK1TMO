{
 "cells": [
  {
   "cell_type": "markdown",
   "metadata": {},
   "source": [
    "# Вариант №1\n",
    "## Аюшиев Тимур Олегович, РТ5-61Б"
   ]
  },
  {
   "cell_type": "code",
   "execution_count": 4,
   "metadata": {},
   "outputs": [],
   "source": [
    "import numpy as np\n",
    "import pandas as pd\n",
    "from sklearn.datasets import load_breast_cancer\n",
    "from sklearn.model_selection import train_test_split\n",
    "from sklearn.preprocessing import StandardScaler\n",
    "from sklearn.metrics import accuracy_score, f1_score"
   ]
  },
  {
   "cell_type": "code",
   "execution_count": 5,
   "metadata": {},
   "outputs": [],
   "source": [
    "# Загрузка данных\n",
    "data = load_breast_cancer()\n",
    "X = pd.DataFrame(data.data, columns=data.feature_names)\n",
    "y = pd.Series(data.target)"
   ]
  },
  {
   "cell_type": "code",
   "execution_count": 6,
   "metadata": {},
   "outputs": [],
   "source": [
    "# Разделение данных на обучающую и тестовую выборки\n",
    "X_train, X_test, y_train, y_test = train_test_split(X, y, test_size=0.2, random_state=42)\n"
   ]
  },
  {
   "cell_type": "code",
   "execution_count": 7,
   "metadata": {},
   "outputs": [],
   "source": [
    "# Стандартизация данных\n",
    "scaler = StandardScaler()\n",
    "X_train = scaler.fit_transform(X_train)\n",
    "X_test = scaler.transform(X_test)"
   ]
  },
  {
   "cell_type": "code",
   "execution_count": 8,
   "metadata": {},
   "outputs": [
    {
     "name": "stdout",
     "output_type": "stream",
     "text": [
      "Decision Tree - Accuracy: 0.9473684210526315, F1-Score: 0.9577464788732394\n"
     ]
    }
   ],
   "source": [
    "# ДЕРЕВО РЕШЕНИЙ\n",
    "from sklearn.tree import DecisionTreeClassifier\n",
    "\n",
    "# Создание и обучение модели дерева решений\n",
    "tree_model = DecisionTreeClassifier(random_state=42)\n",
    "tree_model.fit(X_train, y_train)\n",
    "\n",
    "# Предсказание и оценка\n",
    "y_pred_tree = tree_model.predict(X_test)\n",
    "accuracy_tree = accuracy_score(y_test, y_pred_tree)\n",
    "f1_tree = f1_score(y_test, y_pred_tree)\n",
    "\n",
    "print(f'Decision Tree - Accuracy: {accuracy_tree}, F1-Score: {f1_tree}')"
   ]
  },
  {
   "cell_type": "code",
   "execution_count": 9,
   "metadata": {},
   "outputs": [
    {
     "name": "stdout",
     "output_type": "stream",
     "text": [
      "Gradient Boosting - Accuracy: 0.956140350877193, F1-Score: 0.965034965034965\n"
     ]
    }
   ],
   "source": [
    "# ГРАДИЕНТНЫЙ БУСТИНГ\n",
    "from sklearn.ensemble import GradientBoostingClassifier\n",
    "\n",
    "# Создание и обучение модели градиентного бустинга\n",
    "gb_model = GradientBoostingClassifier(random_state=42)\n",
    "gb_model.fit(X_train, y_train)\n",
    "\n",
    "# Предсказание и оценка\n",
    "y_pred_gb = gb_model.predict(X_test)\n",
    "accuracy_gb = accuracy_score(y_test, y_pred_gb)\n",
    "f1_gb = f1_score(y_test, y_pred_gb)\n",
    "\n",
    "print(f'Gradient Boosting - Accuracy: {accuracy_gb}, F1-Score: {f1_gb}')"
   ]
  },
  {
   "cell_type": "code",
   "execution_count": 10,
   "metadata": {},
   "outputs": [
    {
     "name": "stdout",
     "output_type": "stream",
     "text": [
      "Decision Tree - Accuracy: 0.9473684210526315, F1-Score: 0.9577464788732394\n",
      "Gradient Boosting - Accuracy: 0.956140350877193, F1-Score: 0.965034965034965\n"
     ]
    }
   ],
   "source": [
    "# РЕЗУЛЬТАТЫ\n",
    "print(f'Decision Tree - Accuracy: {accuracy_tree}, F1-Score: {f1_tree}')\n",
    "print(f'Gradient Boosting - Accuracy: {accuracy_gb}, F1-Score: {f1_gb}')\n"
   ]
  },
  {
   "cell_type": "markdown",
   "metadata": {},
   "source": [
    "## Выводы\n",
    " - Модель градиентного бустинга показала более высокие значения Accuracy и F1-Score по сравнению с моделью дерева решений, что указывает на лучшую общую производительность.\n",
    " - Модель дерева решений, хотя и является простой в интерпретации и реализации, может уступать в качестве предсказаний более сложным моделям, таким как градиентный бустинг, особенно на комплексных данных."
   ]
  }
 ],
 "metadata": {
  "kernelspec": {
   "display_name": "venv",
   "language": "python",
   "name": "python3"
  },
  "language_info": {
   "codemirror_mode": {
    "name": "ipython",
    "version": 3
   },
   "file_extension": ".py",
   "mimetype": "text/x-python",
   "name": "python",
   "nbconvert_exporter": "python",
   "pygments_lexer": "ipython3",
   "version": "3.11.0"
  }
 },
 "nbformat": 4,
 "nbformat_minor": 2
}
